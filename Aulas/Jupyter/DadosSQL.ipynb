{
 "cells": [
  {
   "cell_type": "code",
   "execution_count": 1,
   "metadata": {},
   "outputs": [],
   "source": [
    "import mysql.connector"
   ]
  },
  {
   "cell_type": "code",
   "execution_count": 2,
   "metadata": {},
   "outputs": [],
   "source": [
    "import pandas as pd"
   ]
  },
  {
   "cell_type": "code",
   "execution_count": 3,
   "metadata": {},
   "outputs": [],
   "source": [
    "conexao = mysql.connector.connect(\n",
    "    host = 'localhost', \n",
    "    user = 'root',\n",
    "    password = 'natasha57',\n",
    "    database = 'embraer',\n",
    ")"
   ]
  },
  {
   "cell_type": "code",
   "execution_count": 4,
   "metadata": {},
   "outputs": [],
   "source": [
    "# abrir uma conexão com o cursor\n",
    "cursor = conexao.cursor()"
   ]
  },
  {
   "cell_type": "code",
   "execution_count": 5,
   "metadata": {},
   "outputs": [],
   "source": [
    "nome_tabela = 'teamusa'             #Aqui, uma variável chamada nome_tabela é criada e recebe a string 'teamusa'. Essa variável representa o nome de uma tabela no banco de dados.\n",
    "consulta_sql = f'SELECT * FROM {nome_tabela}'   #Nesta linha, uma string consulta_sql é construída usando a f-string. Ela contém uma instrução SQL SELECT que seleciona todas as colunas da tabela especificada em nome_tabela. A f-string permite inserir o valor da variável nome_tabela diretamente na string\n",
    "cursor.execute(consulta_sql)                    #Aqui, a consulta SQL é executada no banco de dados usando o cursor. O método execute do cursor é utilizado para enviar a instrução SQL ao banco de dados para execução"
   ]
  },
  {
   "cell_type": "code",
   "execution_count": 6,
   "metadata": {},
   "outputs": [
    {
     "name": "stdout",
     "output_type": "stream",
     "text": [
      "                 name team pos    salary  start_year  end_year  years\n",
      "0     Clayton Kershaw  LAD  SP  33000000        2014      2020      7\n",
      "1        Zack Greinke  ARI  SP  31876966        2016      2021      6\n",
      "2         David Price  BOS  SP  30000000        2016      2022      7\n",
      "3      Miguel Cabrera  DET  1B  28000000        2014      2023     10\n",
      "4    Justin Verlander  DET  SP  28000000        2013      2019      7\n",
      "..                ...  ...  ..       ...         ...       ...    ...\n",
      "863      Steve Selsky  BOS  RF    535000        2017      2017      1\n",
      "864     Stuart Turner  CIN   C    535000        2017      2017      1\n",
      "865    Vicente Campos  LAA  RP    535000        2017      2017      1\n",
      "866     Wandy Peralta  CIN  RP    535000        2017      2017      1\n",
      "867        Yandy Diaz  CLE  3B    535000        2017      2017      1\n",
      "\n",
      "[868 rows x 7 columns]\n"
     ]
    }
   ],
   "source": [
    "dados = cursor.fetchall()                       #Essa linha obtém todos os resultados da última consulta executada no banco de dados usando o cursor. O fetchall() retorna uma lista de tuplas, onde cada tupla representa uma linha de dados da consulta.\n",
    "colunas = [i[0] for i in cursor.description]    #Aqui, são obtidos os nomes das colunas da consulta. O cursor.description contém informações sobre as colunas resultantes da última consulta, como nome, tipo de dado, etc. Essa linha cria uma lista (colunas) com os nomes das colunas.\n",
    "df = pd.DataFrame(dados, columns= colunas)      #Aqui, um DataFrame do pandas é criado usando os dados obtidos da consulta e os nomes das colunas. Um DataFrame é uma estrutura de dados tabular bidimensional com rótulos nas colunas e linhas, semelhante a uma planilha.\n",
    "cursor.close()                                  #Essa linha fecha o cursor, liberando os recursos associados a ele no banco de dados. É uma boa prática fechar o cursor quando não é mais necessário.\n",
    "conexao.close()                                 #Esta linha fecha a conexão com o banco de dados. Da mesma forma que o cursor, é uma boa prática fechar a conexão quando não é mais necessária.\n",
    "print(df)\n",
    "\n",
    "\n",
    "# \n"
   ]
  }
 ],
 "metadata": {
  "kernelspec": {
   "display_name": "Python 3",
   "language": "python",
   "name": "python3"
  },
  "language_info": {
   "codemirror_mode": {
    "name": "ipython",
    "version": 3
   },
   "file_extension": ".py",
   "mimetype": "text/x-python",
   "name": "python",
   "nbconvert_exporter": "python",
   "pygments_lexer": "ipython3",
   "version": "3.12.0"
  }
 },
 "nbformat": 4,
 "nbformat_minor": 2
}
