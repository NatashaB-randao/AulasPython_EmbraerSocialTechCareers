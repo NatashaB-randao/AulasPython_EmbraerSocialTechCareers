{
 "cells": [
  {
   "cell_type": "code",
   "execution_count": 6,
   "metadata": {},
   "outputs": [
    {
     "name": "stdout",
     "output_type": "stream",
     "text": [
      "Requirement already satisfied: mysql-connector-python in /Library/Frameworks/Python.framework/Versions/3.12/lib/python3.12/site-packages (8.2.0)\n",
      "Requirement already satisfied: protobuf<=4.21.12,>=4.21.1 in /Library/Frameworks/Python.framework/Versions/3.12/lib/python3.12/site-packages (from mysql-connector-python) (4.21.12)\n",
      "\n",
      "\u001b[1m[\u001b[0m\u001b[34;49mnotice\u001b[0m\u001b[1;39;49m]\u001b[0m\u001b[39;49m A new release of pip is available: \u001b[0m\u001b[31;49m23.2.1\u001b[0m\u001b[39;49m -> \u001b[0m\u001b[32;49m23.3.1\u001b[0m\n",
      "\u001b[1m[\u001b[0m\u001b[34;49mnotice\u001b[0m\u001b[1;39;49m]\u001b[0m\u001b[39;49m To update, run: \u001b[0m\u001b[32;49mpip3 install --upgrade pip\u001b[0m\n",
      "Note: you may need to restart the kernel to use updated packages.\n"
     ]
    }
   ],
   "source": [
    "pip install mysql-connector-python"
   ]
  },
  {
   "cell_type": "code",
   "execution_count": 7,
   "metadata": {},
   "outputs": [],
   "source": [
    "import mysql.connector\n",
    "from random import choice, randint"
   ]
  },
  {
   "cell_type": "code",
   "execution_count": 8,
   "metadata": {},
   "outputs": [],
   "source": [
    "db_config = {\n",
    "    'host': 'localhost',\n",
    "    'user': 'root',\n",
    "    'password': 'natasha57',\n",
    "    'database': 'embraer'\n",
    "}"
   ]
  },
  {
   "cell_type": "code",
   "execution_count": 9,
   "metadata": {},
   "outputs": [],
   "source": [
    "conn = mysql.connector.connect(**db_config)\n",
    "cursor = conn.cursor()\n",
    "\n",
    "create_table_query = \"\"\"\n",
    "    CREATE TABLE IF NOT EXISTS dados_aleatorios (\n",
    "        id INT AUTO_INCREMENT PRIMARY KEY,\n",
    "        nome VARCHAR(50),\n",
    "        idade INT,\n",
    "        cidade VARCHAR(50)\n",
    "    );\n",
    "\"\"\"\n",
    "\n",
    "cursor.execute(create_table_query)\n",
    "conn.commit()\n",
    "\n"
   ]
  },
  {
   "cell_type": "code",
   "execution_count": 10,
   "metadata": {},
   "outputs": [],
   "source": [
    "nomes = ['Alice', 'Bob', 'Charlie', 'David', 'Emma', 'Frank', 'Grace', 'Hank']\n",
    "cidades = ['Nova York', 'Los Angeles', 'Chicago', 'Houston', 'Phoenix', 'Filadélfia']\n",
    "\n",
    "for _ in range(2000):\n",
    "    nome = choice(nomes)\n",
    "    idade = randint(18, 99)\n",
    "    cidade = choice(cidades)\n",
    "\n",
    "    insert_query = \"INSERT INTO  dados_aleatorios (nome, idade, cidade) VALUES (%s, %s, %s)\"\n",
    "    data = (nome, idade, cidade)\n",
    "    cursor.execute(insert_query, data)\n",
    "\n",
    "conn.commit()\n",
    "\n",
    "cursor.close()\n",
    "conn.close()"
   ]
  },
  {
   "cell_type": "code",
   "execution_count": 12,
   "metadata": {},
   "outputs": [
    {
     "name": "stdout",
     "output_type": "stream",
     "text": [
      "        id     nome  idade      cidade\n",
      "0        1    Alice     67     Houston\n",
      "1        2    David     44  Filadélfia\n",
      "2        3      Bob     78   Nova York\n",
      "3        4    Frank     42   Nova York\n",
      "4        5    Alice     68     Houston\n",
      "...    ...      ...    ...         ...\n",
      "5995  5996     Hank     60  Filadélfia\n",
      "5996  5997    Grace     80   Nova York\n",
      "5997  5998  Charlie     50     Phoenix\n",
      "5998  5999    David     90     Chicago\n",
      "5999  6000      Bob     28   Nova York\n",
      "\n",
      "[6000 rows x 4 columns]\n"
     ]
    },
    {
     "name": "stderr",
     "output_type": "stream",
     "text": [
      "/var/folders/zp/1hd6qt591tg4pc07xp859dw00000gp/T/ipykernel_3118/744584606.py:17: UserWarning: pandas only supports SQLAlchemy connectable (engine/connection) or database string URI or sqlite3 DBAPI2 connection. Other DBAPI2 objects are not tested. Please consider using SQLAlchemy.\n",
      "  df = pd.read_sql(select_query, conn)\n"
     ]
    }
   ],
   "source": [
    "# Para Pegar Dados Aleatórios do Mysql\n",
    "\n",
    "import mysql.connector\n",
    "import pandas as pd\n",
    "\n",
    "db_config = {\n",
    "    'host': 'localhost',\n",
    "    'user': 'root',\n",
    "    'password': 'natasha57',\n",
    "    'database': 'embraer'\n",
    "}\n",
    "\n",
    "\n",
    "conn = mysql.connector.connect(**db_config)\n",
    "\n",
    "select_query = \"SELECT * FROM dados_aleatorios\"\n",
    "df = pd.read_sql(select_query, conn)\n",
    "\n",
    "conn.close()\n",
    "\n",
    "print(df)\n"
   ]
  }
 ],
 "metadata": {
  "kernelspec": {
   "display_name": "Python 3",
   "language": "python",
   "name": "python3"
  },
  "language_info": {
   "codemirror_mode": {
    "name": "ipython",
    "version": 3
   },
   "file_extension": ".py",
   "mimetype": "text/x-python",
   "name": "python",
   "nbconvert_exporter": "python",
   "pygments_lexer": "ipython3",
   "version": "3.12.0"
  }
 },
 "nbformat": 4,
 "nbformat_minor": 2
}
